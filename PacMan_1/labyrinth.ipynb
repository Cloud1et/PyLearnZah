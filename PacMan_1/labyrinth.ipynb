{
 "cells": [
  {
   "cell_type": "code",
   "execution_count": 1,
   "metadata": {},
   "outputs": [
    {
     "name": "stdout",
     "output_type": "stream",
     "text": [
      "pygame 2.5.2 (SDL 2.28.3, Python 3.10.13)\n",
      "Hello from the pygame community. https://www.pygame.org/contribute.html\n"
     ]
    },
    {
     "ename": "IndexError",
     "evalue": "list index out of range",
     "output_type": "error",
     "traceback": [
      "\u001b[1;31m---------------------------------------------------------------------------\u001b[0m",
      "\u001b[1;31mIndexError\u001b[0m                                Traceback (most recent call last)",
      "\u001b[1;32mg:\\club\\PacMan\\labyrinth.ipynb Cell 1\u001b[0m line \u001b[0;36m3\n\u001b[0;32m     <a href='vscode-notebook-cell:/g%3A/club/PacMan/labyrinth.ipynb#W0sZmlsZQ%3D%3D?line=34'>35</a>\u001b[0m \u001b[39m# Choose a random neighbor\u001b[39;00m\n\u001b[0;32m     <a href='vscode-notebook-cell:/g%3A/club/PacMan/labyrinth.ipynb#W0sZmlsZQ%3D%3D?line=35'>36</a>\u001b[0m neighbors \u001b[39m=\u001b[39m [current \u001b[39m-\u001b[39m \u001b[39m1\u001b[39m, current \u001b[39m+\u001b[39m \u001b[39m1\u001b[39m, current \u001b[39m-\u001b[39m rows, current \u001b[39m+\u001b[39m rows]\n\u001b[1;32m---> <a href='vscode-notebook-cell:/g%3A/club/PacMan/labyrinth.ipynb#W0sZmlsZQ%3D%3D?line=36'>37</a>\u001b[0m neighbor \u001b[39m=\u001b[39m random\u001b[39m.\u001b[39;49mchoice([n \u001b[39mfor\u001b[39;49;00m n \u001b[39min\u001b[39;49;00m neighbors \u001b[39mif\u001b[39;49;00m \u001b[39m0\u001b[39;49m \u001b[39m<\u001b[39;49m\u001b[39m=\u001b[39;49m n \u001b[39m<\u001b[39;49m size \u001b[39mand\u001b[39;49;00m maze[n][\u001b[39m0\u001b[39;49m] \u001b[39m==\u001b[39;49m \u001b[39m'\u001b[39;49m\u001b[39m#\u001b[39;49m\u001b[39m'\u001b[39;49m])\n\u001b[0;32m     <a href='vscode-notebook-cell:/g%3A/club/PacMan/labyrinth.ipynb#W0sZmlsZQ%3D%3D?line=38'>39</a>\u001b[0m \u001b[39m# Index of the common wall between the current cell and the chosen neighbor\u001b[39;00m\n\u001b[0;32m     <a href='vscode-notebook-cell:/g%3A/club/PacMan/labyrinth.ipynb#W0sZmlsZQ%3D%3D?line=39'>40</a>\u001b[0m common_wall \u001b[39m=\u001b[39m current \u001b[39m-\u001b[39m neighbor\n",
      "File \u001b[1;32mc:\\Users\\user\\anaconda3\\envs\\pacman\\lib\\random.py:378\u001b[0m, in \u001b[0;36mRandom.choice\u001b[1;34m(self, seq)\u001b[0m\n\u001b[0;32m    376\u001b[0m \u001b[39m\u001b[39m\u001b[39m\"\"\"Choose a random element from a non-empty sequence.\"\"\"\u001b[39;00m\n\u001b[0;32m    377\u001b[0m \u001b[39m# raises IndexError if seq is empty\u001b[39;00m\n\u001b[1;32m--> 378\u001b[0m \u001b[39mreturn\u001b[39;00m seq[\u001b[39mself\u001b[39;49m\u001b[39m.\u001b[39;49m_randbelow(\u001b[39mlen\u001b[39;49m(seq))]\n",
      "\u001b[1;31mIndexError\u001b[0m: list index out of range"
     ]
    },
    {
     "ename": "",
     "evalue": "",
     "output_type": "error",
     "traceback": [
      "\u001b[1;31mThe Kernel crashed while executing code in the the current cell or a previous cell. Please review the code in the cell(s) to identify a possible cause of the failure. Click <a href='https://aka.ms/vscodeJupyterKernelCrash'>here</a> for more info. View Jupyter <a href='command:jupyter.viewOutput'>log</a> for further details."
     ]
    }
   ],
   "source": [
    "import pygame\n",
    "import random\n",
    "\n",
    "# Initialize pygame\n",
    "pygame.init()\n",
    "\n",
    "# Screen size\n",
    "width, height = 640, 480\n",
    "\n",
    "# Create the screen\n",
    "screen = pygame.display.set_mode((width, height))\n",
    "\n",
    "# Color\n",
    "WHITE = (255, 255, 255)\n",
    "BLACK = (0, 0, 0)\n",
    "\n",
    "# Number of rows and columns\n",
    "rows = height // 10\n",
    "columns = width // 10\n",
    "\n",
    "# Size of the maze\n",
    "size = rows * columns\n",
    "\n",
    "# Each cell is represented as a tuple with (up, down, left, right) walls.\n",
    "# The default maze has walls around each cell.\n",
    "maze = [['###', '# #', '# #', '# #']] * size\n",
    "\n",
    "# List of cells to be processed\n",
    "frontier = [random.randint(0, size - 1)]\n",
    "\n",
    "while frontier:\n",
    "    # Select a random cell from the frontier list\n",
    "    current = frontier.pop(random.randint(0, len(frontier) - 1))\n",
    "\n",
    "    # Choose a random neighbor\n",
    "    neighbors = [current - 1, current + 1, current - rows, current + rows]\n",
    "    neighbor = random.choice([n for n in neighbors if 0 <= n < size and maze[n][0] == '#'])\n",
    "\n",
    "    # Index of the common wall between the current cell and the chosen neighbor\n",
    "    common_wall = current - neighbor\n",
    "    if common_wall % rows == 0: # Top and bottom walls\n",
    "        index = 0 if common_wall > 0 else 2\n",
    "    else: # Left and right walls\n",
    "        index = 1 if common_wall > 0 else 3\n",
    "\n",
    "    # Remove the common wall\n",
    "    maze[current] = list(maze[current][0])\n",
    "    maze[current][index] = ' '\n",
    "\n",
    "    maze[neighbor] = list(maze[neighbor][0])\n",
    "    maze[neighbor][(index + 1) % 4] = ' '\n",
    "\n",
    "    # Add the chosen neighbor to the frontier list\n",
    "    frontier.append(neighbor)\n",
    "\n",
    "# Convert the maze to a list of walls\n",
    "walls = [['######'] * columns for _ in range(rows)]\n",
    "for cell in range(size):\n",
    "    row, col = divmod(cell, rows)\n",
    "    for i in range(4):\n",
    "        if maze[cell][i] == ' ':\n",
    "            if i == 0: walls[row - 1][col] = '##' + walls[row - 1][col][2:]\n",
    "            elif i == 1: walls[row][col - 1] = walls[row][col - 1][:2] + '##'\n",
    "            elif i == 2: walls[row][col] = '##' + walls[row][col][2:]\n",
    "            else: walls[row][col - 1] = walls[row][col - 1][:2] + '##'\n",
    "\n",
    "# Start position\n",
    "start = (rows // 2) * columns + (columns // 2)\n",
    "maze[start] = list(maze[start][0])\n",
    "maze[start][2] = ' '\n",
    "\n",
    "# End position\n",
    "end = (rows - 1) * columns + (columns - 1)\n",
    "maze[end] = list(maze[end][0])\n",
    "maze[end][1] = ' '\n",
    "\n",
    "# Print the maze\n",
    "for row in range(rows):\n",
    "    for col in range(columns):\n",
    "        print(walls[row][col], end='')\n",
    "    print()\n",
    "\n",
    "# Pygame event loop\n",
    "while True:\n",
    "    for event in pygame.event.get():\n",
    "        if event.type == pygame.QUIT:\n",
    "            pygame.quit()\n",
    "            quit()\n",
    "    "
   ]
  }
 ],
 "metadata": {
  "kernelspec": {
   "display_name": "pacman",
   "language": "python",
   "name": "python3"
  },
  "language_info": {
   "codemirror_mode": {
    "name": "ipython",
    "version": 3
   },
   "file_extension": ".py",
   "mimetype": "text/x-python",
   "name": "python",
   "nbconvert_exporter": "python",
   "pygments_lexer": "ipython3",
   "version": "3.10.13"
  }
 },
 "nbformat": 4,
 "nbformat_minor": 2
}
