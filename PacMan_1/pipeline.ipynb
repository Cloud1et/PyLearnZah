{
 "cells": [
  {
   "cell_type": "code",
   "execution_count": 1,
   "metadata": {},
   "outputs": [
    {
     "name": "stdout",
     "output_type": "stream",
     "text": [
      "pygame 2.5.2 (SDL 2.28.3, Python 3.10.13)\n",
      "Hello from the pygame community. https://www.pygame.org/contribute.html\n"
     ]
    },
    {
     "ename": "AttributeError",
     "evalue": "type object 'Game' has no attribute 'thickness'",
     "output_type": "error",
     "traceback": [
      "\u001b[1;31m---------------------------------------------------------------------------\u001b[0m",
      "\u001b[1;31mAttributeError\u001b[0m                            Traceback (most recent call last)",
      "Cell \u001b[1;32mIn[1], line 1\u001b[0m\n\u001b[1;32m----> 1\u001b[0m \u001b[38;5;28;01mfrom\u001b[39;00m \u001b[38;5;21;01mGame\u001b[39;00m \u001b[38;5;28;01mimport\u001b[39;00m \u001b[38;5;241m*\u001b[39m\n\u001b[0;32m      2\u001b[0m \u001b[38;5;28;01mfrom\u001b[39;00m \u001b[38;5;21;01mpygame\u001b[39;00m\u001b[38;5;21;01m.\u001b[39;00m\u001b[38;5;21;01mlocals\u001b[39;00m \u001b[38;5;28;01mimport\u001b[39;00m \u001b[38;5;241m*\u001b[39m\n\u001b[0;32m      3\u001b[0m \u001b[38;5;28;01mimport\u001b[39;00m \u001b[38;5;21;01mpygame\u001b[39;00m\u001b[38;5;241m,\u001b[39m \u001b[38;5;21;01msys\u001b[39;00m\n",
      "File \u001b[1;32mg:\\club\\PacMan\\Game.py:91\u001b[0m\n\u001b[0;32m     88\u001b[0m     \u001b[38;5;28;01mdef\u001b[39;00m \u001b[38;5;21mmove\u001b[39m():\n\u001b[0;32m     89\u001b[0m         \u001b[38;5;28;01mpass\u001b[39;00m\n\u001b[1;32m---> 91\u001b[0m \u001b[38;5;28;01mclass\u001b[39;00m \u001b[38;5;21;01mPacman\u001b[39;00m(Creature):\n\u001b[0;32m     93\u001b[0m     \u001b[38;5;28;01mdef\u001b[39;00m \u001b[38;5;21m__init__\u001b[39m(\u001b[38;5;28mself\u001b[39m, cord: \u001b[38;5;28mlist\u001b[39m \u001b[38;5;241m=\u001b[39m Creature\u001b[38;5;241m.\u001b[39mpacman_cord(Game), clr: \u001b[38;5;28mtuple\u001b[39m \u001b[38;5;241m=\u001b[39m YELLOW):\n\u001b[0;32m     94\u001b[0m         \u001b[38;5;28msuper\u001b[39m()\u001b[38;5;241m.\u001b[39m\u001b[38;5;21m__init__\u001b[39m(Game)\n",
      "File \u001b[1;32mg:\\club\\PacMan\\Game.py:93\u001b[0m, in \u001b[0;36mPacman\u001b[1;34m()\u001b[0m\n\u001b[0;32m     91\u001b[0m \u001b[38;5;28;01mclass\u001b[39;00m \u001b[38;5;21;01mPacman\u001b[39;00m(Creature):\n\u001b[1;32m---> 93\u001b[0m     \u001b[38;5;28;01mdef\u001b[39;00m \u001b[38;5;21m__init__\u001b[39m(\u001b[38;5;28mself\u001b[39m, cord: \u001b[38;5;28mlist\u001b[39m \u001b[38;5;241m=\u001b[39m \u001b[43mCreature\u001b[49m\u001b[38;5;241;43m.\u001b[39;49m\u001b[43mpacman_cord\u001b[49m\u001b[43m(\u001b[49m\u001b[43mGame\u001b[49m\u001b[43m)\u001b[49m, clr: \u001b[38;5;28mtuple\u001b[39m \u001b[38;5;241m=\u001b[39m YELLOW):\n\u001b[0;32m     94\u001b[0m         \u001b[38;5;28msuper\u001b[39m()\u001b[38;5;241m.\u001b[39m\u001b[38;5;21m__init__\u001b[39m(Game)\n\u001b[0;32m     95\u001b[0m         \u001b[38;5;28mself\u001b[39m\u001b[38;5;241m.\u001b[39mcord \u001b[38;5;241m=\u001b[39m cord\n",
      "File \u001b[1;32mg:\\club\\PacMan\\Game.py:83\u001b[0m, in \u001b[0;36mCreature.pacman_cord\u001b[1;34m(Game)\u001b[0m\n\u001b[0;32m     81\u001b[0m     \u001b[38;5;28;01mfor\u001b[39;00m x \u001b[38;5;129;01min\u001b[39;00m \u001b[38;5;28mrange\u001b[39m(\u001b[38;5;241m0\u001b[39m , \u001b[38;5;28mlen\u001b[39m(map_1[y])):\n\u001b[0;32m     82\u001b[0m         \u001b[38;5;28;01mif\u001b[39;00m map_1[x][y] \u001b[38;5;241m==\u001b[39m \u001b[38;5;241m2\u001b[39m:\n\u001b[1;32m---> 83\u001b[0m             pos_y \u001b[38;5;241m=\u001b[39m y \u001b[38;5;241m*\u001b[39m \u001b[43mGame\u001b[49m\u001b[38;5;241;43m.\u001b[39;49m\u001b[43mthickness\u001b[49m\n\u001b[0;32m     84\u001b[0m             pos_x \u001b[38;5;241m=\u001b[39m x \u001b[38;5;241m*\u001b[39m Game\u001b[38;5;241m.\u001b[39mthickness\n\u001b[0;32m     85\u001b[0m \u001b[38;5;28;01mreturn\u001b[39;00m  [pos_y,pos_x]\n",
      "\u001b[1;31mAttributeError\u001b[0m: type object 'Game' has no attribute 'thickness'"
     ]
    }
   ],
   "source": [
    "from Game import *\n",
    "from pygame.locals import *\n",
    "import pygame, sys\n",
    "from level1 import *  \n",
    "\n",
    "Wind = Game()\n",
    "Pac = Pacman(Wind)\n",
    "\n",
    "# Заполняем экран белым цветом\n",
    "Wind.fill(WHITE)\n",
    "\n",
    "# Рисуем сетку\n",
    "for y in range(0 , Wind.get_height() // Wind.get_thickness()):\n",
    "    Wind.draw_line(BLACK , (0 , y * Wind.get_thickness()) , (Wind.get_width() , y * Wind.get_thickness()))\n",
    "for x in range(0 , Wind.get_width() // Wind.get_thickness()):\n",
    "    Wind.draw_line(BLACK , (x * Wind.get_thickness() , 0) , (x * Wind.get_thickness() , Wind.get_height()))\n",
    "\n",
    "Wind.Rendering()\n",
    "yellow = (255, 255, 0)\n",
    "white = (255,255,255)\n",
    "black = (0, 0, 0)\n",
    "speed = 5\n",
    "pos_y = 0\n",
    "pos_x = 0\n",
    "\n",
    "wall_above, wall_under, wall_left, wall_right = 0,0,0,0\n",
    "\n",
    "pac_pos = Pac.cord + Wind.get_thickness() + Wind.get_thickness()\n",
    "\n",
    "wall_pos = [wall_above, wall_under, wall_left, wall_right]\n",
    "\n",
    "\n",
    "while 1:\n",
    "\n",
    "     # Нужно чтобы виндовс не думал что программа \"не отвечает\"\n",
    "    for event in Wind.event.get():\n",
    "        if event.type == pygame.QUIT:\n",
    "            pygame.quit()\n",
    "            quit()\n",
    "\n",
    "\n",
    "    dif_x = 0\n",
    "    dif_y = 0\n",
    "\n",
    "    keys = pygame.key.get_pressed()\n",
    "\n",
    "    if keys[pygame.K_LEFT]:\n",
    "        dif_y -= speed\n",
    "        Wind.draw_rect(black, pac_pos)\n",
    "    if keys[pygame.K_RIGHT]:\n",
    "        dif_y += speed\n",
    "        Wind.draw_rect(black, pac_pos)\n",
    "    if keys[pygame.K_DOWN]:\n",
    "        dif_x += speed\n",
    "        Wind.draw_rect(black, pac_pos)\n",
    "    if keys[pygame.K_UP]:\n",
    "        dif_x -= speed\n",
    "        Wind.draw_rect(black, pac_pos)\n",
    "\n",
    "    \n",
    "    pac_pos[0] += dif_y\n",
    "    pac_pos[1] += dif_x\n",
    "    # Обработка событий\n",
    "    \n",
    "    Pac.draw()\n",
    "    \n",
    "    Wind.update_wind()\n",
    "   \n",
    "    pygame.time.Clock().tick(60)"
   ]
  },
  {
   "cell_type": "code",
   "execution_count": null,
   "metadata": {},
   "outputs": [],
   "source": [
    "A = [[5,7],\n",
    "     [9,8]]\n",
    "for el in A:\n",
    "    if el == 7:    \n",
    "        print(A.index(el))"
   ]
  }
 ],
 "metadata": {
  "kernelspec": {
   "display_name": "pacman",
   "language": "python",
   "name": "python3"
  },
  "language_info": {
   "codemirror_mode": {
    "name": "ipython",
    "version": 3
   },
   "file_extension": ".py",
   "mimetype": "text/x-python",
   "name": "python",
   "nbconvert_exporter": "python",
   "pygments_lexer": "ipython3",
   "version": "3.10.11"
  }
 },
 "nbformat": 4,
 "nbformat_minor": 2
}
